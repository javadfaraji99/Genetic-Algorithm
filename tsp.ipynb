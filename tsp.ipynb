{
 "cells": [
  {
   "cell_type": "code",
   "execution_count": 1,
   "metadata": {},
   "outputs": [],
   "source": [
    "import numpy as np"
   ]
  },
  {
   "cell_type": "code",
   "execution_count": 20,
   "metadata": {},
   "outputs": [],
   "source": [
    "def initialize_population(num_population, num_cities):\n",
    "    population = []\n",
    "    for _ in range(num_population):\n",
    "        data = np.random.permutation(range(1, num_cities + 1))\n",
    "        population.append(data)\n",
    "    return population\n",
    "\n",
    "def calculate_distance(distances, path):\n",
    "    num_cities = len(path)\n",
    "    total_distance = distances[0][path[0] - 1] + distances[path[-1] - 1][0]\n",
    "    for i in range(num_cities - 1):\n",
    "        total_distance += distances[path[i] - 1][path[i + 1] - 1]\n",
    "    return total_distance\n",
    "\n",
    "def calculate_population_fitness(distances, population):\n",
    "    fitnesses = []\n",
    "    for path in population:\n",
    "        fitness = calculate_distance(distances, path)\n",
    "        fitnesses.append(fitness)\n",
    "    return fitnesses\n",
    "\n",
    "def select_parents(population, fitnesses, num_parents):\n",
    "    fitness_sum = np.sum(fitnesses)\n",
    "    probabilities = fitnesses / fitness_sum\n",
    "    parent_indices = np.random.choice(len(fitnesses), size=num_parents, replace=False, p=probabilities)\n",
    "    return [population[idx] for idx in parent_indices]\n",
    "\n",
    "def crossover(parents):\n",
    "    crossover_point = np.random.randint(1, len(parents[0]) - 1)\n",
    "    child1_half_2 = parents[0][crossover_point:]\n",
    "\n",
    "    child1_half_1 = []\n",
    "    for j in parents[1]:\n",
    "        if j not in child1_half_2:\n",
    "            child1_half_1.append(j)\n",
    "    child1 = np.concatenate((child1_half_1, child1_half_2), axis=0)\n",
    "\n",
    "    child2_half_2 = parents[1][crossover_point:]\n",
    "\n",
    "    child2_half_1 = []\n",
    "    for j in parents[0]:\n",
    "        if j not in child2_half_2:\n",
    "            child2_half_1.append(j)\n",
    "    child2 = np.concatenate((child2_half_1, child2_half_2), axis=0)\n",
    "\n",
    "    return child1, child2\n",
    "\n",
    "def mutate(child, mutation_prob):\n",
    "    if np.random.random() < mutation_prob:\n",
    "        random_indices = np.random.choice(len(child), size=2, replace=False)\n",
    "        child[random_indices[0]] , child[random_indices[1]] = child[random_indices[1]] , child[random_indices[0]]\n",
    "    return child\n"
   ]
  },
  {
   "cell_type": "code",
   "execution_count": 26,
   "metadata": {},
   "outputs": [],
   "source": [
    "def evolution(distances, num_population, num_cities, num_parents, num_generations, mutation_prob):\n",
    "    population = initialize_population(num_population, num_cities)\n",
    "    best_distances = []\n",
    "\n",
    "    initial_fitnesses = calculate_population_fitness(distances, population)\n",
    "    initial_distance = np.min(initial_fitnesses)\n",
    "    best_distance = initial_distance\n",
    "    best_index = np.argmin(initial_fitnesses)\n",
    "    best_path = population[best_index]\n",
    "    best_distances.append(best_distance)\n",
    "    n_generation = 0\n",
    "\n",
    "    for x in range(num_generations):\n",
    "        fitnesses = calculate_population_fitness(distances, population)\n",
    "        new_population = []\n",
    "\n",
    "        parents_list = []\n",
    "        for _ in range(num_population // 2):\n",
    "            parents = select_parents(population, fitnesses, num_parents)\n",
    "            parents_reverse = parents[::-1]\n",
    "            while tuple(parents) in parents_list:\n",
    "                parents = select_parents(population, fitnesses, num_parents)\n",
    "                parents_reverse = parents[::-1]\n",
    "\n",
    "            parents_list.append(parents)\n",
    "            parents_list.append(parents_reverse)\n",
    "            children = [mutate(child, mutation_prob) for child in crossover(parents)]\n",
    "            new_population.extend(children)\n",
    "\n",
    "        population = new_population\n",
    "        best_generation_distance = np.min(fitnesses)\n",
    "        best_distances.append(best_generation_distance)\n",
    "\n",
    "        if best_generation_distance < best_distance:\n",
    "            best_distance = best_generation_distance\n",
    "            best_index = np.argmin(fitnesses)\n",
    "            best_path = population[best_index]\n",
    "            n_generation = x\n",
    "\n",
    "    \n",
    "    print(\"generation\", n_generation)\n",
    "    print(\"Best distance:\", best_distance)\n",
    "    print(\"Best path:\", list(best_path) + [list(best_path)[0]])\n",
    "    return best_path, best_distances\n"
   ]
  },
  {
   "cell_type": "code",
   "execution_count": 29,
   "metadata": {},
   "outputs": [
    {
     "name": "stdout",
     "output_type": "stream",
     "text": [
      "[[0 2 7 2 8 4 1 9 4 9]\n",
      " [2 0 9 8 6 1 2 6 8 9]\n",
      " [4 9 0 3 9 6 5 1 3 7]\n",
      " [1 8 5 0 6 3 6 1 7 8]\n",
      " [5 2 9 2 0 8 3 8 2 2]\n",
      " [6 1 8 1 5 0 8 8 6 9]\n",
      " [5 4 9 2 8 7 0 6 8 5]\n",
      " [5 5 3 9 3 3 6 0 3 7]\n",
      " [3 7 1 8 8 5 8 4 0 2]\n",
      " [1 9 8 5 3 8 1 6 2 0]]\n",
      "generation 39\n",
      "Best distance: 36\n",
      "Best path: [6, 2, 9, 4, 3, 5, 1, 10, 7, 8, 6]\n"
     ]
    }
   ],
   "source": [
    "num_cities = 10\n",
    "distances = np.random.randint(1, 10, size=(num_cities, num_cities))\n",
    "np.fill_diagonal(distances, 0)\n",
    "\n",
    "print(distances)\n",
    "\n",
    "num_population = 10\n",
    "num_parents = 2\n",
    "num_generations = 100\n",
    "mutation_prob = 0.1\n",
    "\n",
    "best_path, best_distances = evolution(distances, num_population, num_cities, num_parents, num_generations, mutation_prob)"
   ]
  },
  {
   "cell_type": "code",
   "execution_count": 32,
   "metadata": {},
   "outputs": [
    {
     "name": "stdout",
     "output_type": "stream",
     "text": [
      "[[0, 29, 20, 21, 16], [29, 0, 15, 19, 28], [20, 15, 0, 13, 25], [21, 19, 13, 0, 17], [16, 28, 25, 17, 0]]\n",
      "generation 11\n",
      "Best distance: 87\n",
      "Best path: [4, 2, 3, 1, 5, 4]\n"
     ]
    }
   ],
   "source": [
    "distances = [[16, 21, 20, 29, 0],\n",
    "[28, 19, 15, 0 ,29],\n",
    "[25, 13, 0 ,15 ,20],\n",
    "[17, 0 ,13 ,19 ,21],\n",
    "[0 ,17 ,25 ,28 ,16]]\n",
    "distances = [row[::-1] for row in distances]\n",
    "\n",
    "print(distances)\n",
    "\n",
    "num_cities = 5\n",
    "num_population = 10\n",
    "num_parents = 2\n",
    "num_generations = 100\n",
    "mutation_prob = 0.1\n",
    "\n",
    "best_path, best_distances = evolution(distances, num_population, num_cities, num_parents, num_generations, mutation_prob)"
   ]
  },
  {
   "cell_type": "code",
   "execution_count": null,
   "metadata": {},
   "outputs": [],
   "source": []
  }
 ],
 "metadata": {
  "kernelspec": {
   "display_name": "Python 3",
   "language": "python",
   "name": "python3"
  },
  "language_info": {
   "codemirror_mode": {
    "name": "ipython",
    "version": 3
   },
   "file_extension": ".py",
   "mimetype": "text/x-python",
   "name": "python",
   "nbconvert_exporter": "python",
   "pygments_lexer": "ipython3",
   "version": "3.12.0"
  },
  "orig_nbformat": 4
 },
 "nbformat": 4,
 "nbformat_minor": 2
}
